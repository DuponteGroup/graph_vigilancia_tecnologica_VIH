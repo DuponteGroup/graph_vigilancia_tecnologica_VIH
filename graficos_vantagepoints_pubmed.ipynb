{
 "cells": [
  {
   "cell_type": "code",
   "execution_count": 3,
   "id": "8f9238f9-acd8-42a1-81b5-d9d38a157b64",
   "metadata": {
    "scrolled": true
   },
   "outputs": [],
   "source": [
    "library(dplyr)\n",
    "library(tidyr)\n",
    "library(igraph)\n",
    "library(igraph)\n",
    "library(readr)\n",
    "library(networkD3)\n",
    "library(stringr)\n",
    "library(ggplot2)\n",
    "library(RColorBrewer)  # Asegúrate de tener este paquete\n",
    "library(viridis)"
   ]
  },
  {
   "cell_type": "code",
   "execution_count": 5,
   "id": "88a581cc-ea08-4c19-9361-aa0f5bf4b648",
   "metadata": {},
   "outputs": [
    {
     "name": "stderr",
     "output_type": "stream",
     "text": [
      "\u001b[1mRows: \u001b[22m\u001b[34m33\u001b[39m \u001b[1mColumns: \u001b[22m\u001b[34m11\u001b[39m\n",
      "\u001b[36m──\u001b[39m \u001b[1mColumn specification\u001b[22m \u001b[36m────────────────────────────────────────────────────────\u001b[39m\n",
      "\u001b[1mDelimiter:\u001b[22m \",\"\n",
      "\u001b[31mchr\u001b[39m (9): Authors, Title, Year, Journal, Pages, DOI, Abstract, Keywords, Affi...\n",
      "\u001b[32mdbl\u001b[39m (2): Volume, Issue\n",
      "\n",
      "\u001b[36mℹ\u001b[39m Use `spec()` to retrieve the full column specification for this data.\n",
      "\u001b[36mℹ\u001b[39m Specify the column types or set `show_col_types = FALSE` to quiet this message.\n"
     ]
    }
   ],
   "source": [
    "# Cargar el archivo CSV (ajusta la ruta y nombre del archivo)\n",
    "archivo <- \"/home/usuario/VIH/pubmed_to_scopus.csv\"\n",
    "datos <- read_csv(archivo)"
   ]
  },
  {
   "cell_type": "code",
   "execution_count": 6,
   "id": "9870dbd4-dd97-43b6-9594-5bd9c9908289",
   "metadata": {},
   "outputs": [],
   "source": [
    "# Cadena de fechas\n",
    "fechas <- datos$Year\n",
    "\n",
    "# Separar las fechas en un vector\n",
    "fechas_vector <- unlist(strsplit(fechas, \"; \"))\n",
    "\n",
    "# Extraer los años usando una expresión regular\n",
    "anios <- gsub(\".*?(\\\\d{4}).*\", \"\\\\1\", fechas_vector)\n",
    "\n",
    "# Mostrar los años\n",
    "datos$Year <- anios"
   ]
  },
  {
   "cell_type": "code",
   "execution_count": 8,
   "id": "39c0f4b7-9c69-4dfe-b6e9-0cd6101baa1d",
   "metadata": {},
   "outputs": [],
   "source": [
    "funct_extrac_afiliation <- function(afiliacion){\n",
    "  # Dividir las afiliaciones en un vector\n",
    "  afiliaciones_vector <- unlist(strsplit(afiliacion, \";\"))\n",
    "  \n",
    "  # Lista de países y ciudades (puedes ampliar esta lista según necesites)\n",
    "  paises_lista <- c(\"Canada\", \"South Africa\", \"United States\", \"USA\", \"Peru\", \"France\", \"Germany\", \n",
    "                    \"United Kingdom\", \"UK\", \"Spain\", \"Cameroon\", \"Italy\", \"Australia\", \"Brazil\", \n",
    "                    \"China\", \"India\", \"Japan\", \"Russia\", \"Mexico\", \"Argentina\", \"Chile\", \n",
    "                    \"South Africa\", \"Taiwan\",\"Sweden\",\"Switzerland\",\"The Netherlands\",\"Colombia\",\"Uganda\",\"Malawi\")\n",
    "  \n",
    "  # Lista de ciudades asociadas a países\n",
    "  ciudades_usa <- c(\"Nashville\", \"Aurora\", \"California\", \"San Francisco\", \"Bethesda\",\"Philadelphia\",\"Boston\",\"Kenilworth\")\n",
    "  ciudades_rusia <- c(\"Novosibirsk\", \"Koltsovo\")\n",
    "  \n",
    "  # Excepciones donde \"China\" no es el país, sino parte de otra afiliación (como en Taiwán)\n",
    "  excepciones_china <- c(\"China Medical University\", \"MBI-Lab\")\n",
    "  \n",
    "  # Inicializar un vector para almacenar los países encontrados\n",
    "  paises_encontrados <- c()\n",
    "  \n",
    "  # Iterar sobre cada afiliación para buscar países o ciudades\n",
    "  for (afiliacion in afiliaciones_vector) {\n",
    "    # Verificar primero las ciudades específicas de USA\n",
    "    for (ciudad in ciudades_usa) {\n",
    "      if (grepl(paste0(\"\\\\b\", ciudad, \"\\\\b\"), afiliacion, ignore.case = TRUE)) {\n",
    "        paises_encontrados <- c(paises_encontrados, \"USA\")\n",
    "      }\n",
    "    }\n",
    "    \n",
    "    # Verificar ciudades específicas de Rusia\n",
    "    for (ciudad in ciudades_rusia) {\n",
    "      if (grepl(paste0(\"\\\\b\", ciudad, \"\\\\b\"), afiliacion, ignore.case = TRUE)) {\n",
    "        paises_encontrados <- c(paises_encontrados, \"Russia\")\n",
    "      }\n",
    "    }\n",
    "    \n",
    "    # Buscar nombres de países en la afiliación\n",
    "    for (pais in paises_lista) {\n",
    "      # Coincidencia exacta de palabra, asegurando que no haya coincidencias parciales\n",
    "      if (grepl(paste0(\"\\\\b\", pais, \"\\\\b\"), afiliacion, ignore.case = TRUE)) {\n",
    "        # Filtrar excepciones antes de agregar China\n",
    "        if (pais == \"China\") {\n",
    "          # Si alguna excepción de China está presente en la afiliación, no agregar China\n",
    "          if (!any(sapply(excepciones_china, function(excepcion) grepl(excepcion, afiliacion)))) {\n",
    "            paises_encontrados <- c(paises_encontrados, pais)\n",
    "          }\n",
    "        } else {\n",
    "          paises_encontrados <- c(paises_encontrados, pais)\n",
    "        }\n",
    "      }\n",
    "    }\n",
    "  }\n",
    "  \n",
    "  # Normalizar nombres (por ejemplo, UK -> United Kingdom)\n",
    "  paises_encontrados <- gsub(\"UK\", \"United Kingdom\", paises_encontrados)\n",
    "  paises_encontrados <- gsub(\"USA\", \"United States\", paises_encontrados)\n",
    "  \n",
    "  # Obtener los países únicos\n",
    "  paises_unicos <- unique(paises_encontrados)\n",
    "  \n",
    "  # Devolver los países únicos\n",
    "  return(paises_unicos)\n",
    "}\n"
   ]
  },
  {
   "cell_type": "code",
   "execution_count": 9,
   "id": "16bd3b61-74c4-4c91-b7dc-cce84c339e5c",
   "metadata": {},
   "outputs": [
    {
     "data": {
      "text/html": [
       "<style>\n",
       ".list-inline {list-style: none; margin:0; padding: 0}\n",
       ".list-inline>li {display: inline-block}\n",
       ".list-inline>li:not(:last-child)::after {content: \"\\00b7\"; padding: 0 .5ex}\n",
       "</style>\n",
       "<ol class=list-inline><li>'tbl_df'</li><li>'tbl'</li><li>'data.frame'</li></ol>\n"
      ],
      "text/latex": [
       "\\begin{enumerate*}\n",
       "\\item 'tbl\\_df'\n",
       "\\item 'tbl'\n",
       "\\item 'data.frame'\n",
       "\\end{enumerate*}\n"
      ],
      "text/markdown": [
       "1. 'tbl_df'\n",
       "2. 'tbl'\n",
       "3. 'data.frame'\n",
       "\n",
       "\n"
      ],
      "text/plain": [
       "[1] \"tbl_df\"     \"tbl\"        \"data.frame\""
      ]
     },
     "metadata": {},
     "output_type": "display_data"
    }
   ],
   "source": [
    "# Supongamos que `funct_extrac_afiliation` es una función que extrae afiliaciones\n",
    "# y devuelve un vector de caracteres con los países.\n",
    "datos$paises <- lapply(datos$Affiliations, funct_extrac_afiliation)\n",
    "\n",
    "# Convertir la lista de países en un dataframe expandido\n",
    "datos_expandidos <- datos %>%\n",
    "  unnest(paises) %>%  # Expandir la lista de países\n",
    "  mutate(paises = trimws(paises))  # Opcional: eliminar espacios en blanco alrededor de los nombres de países\n",
    "\n",
    "# Ver el resultado\n",
    "class(datos_expandidos)"
   ]
  },
  {
   "cell_type": "code",
   "execution_count": 10,
   "id": "9daaa794-5a3e-4002-a564-db4d2da8b9d3",
   "metadata": {},
   "outputs": [],
   "source": [
    "# Convertir en dataframe\n",
    "datos_df <- as.data.frame(datos_expandidos)"
   ]
  },
  {
   "cell_type": "code",
   "execution_count": 11,
   "id": "2af6af3d-896c-457d-964e-90c6fc90ed2e",
   "metadata": {},
   "outputs": [],
   "source": [
    "colaboraciones <- datos_df %>%\n",
    "  filter(!is.na(paises)) %>%\n",
    "  unnest(paises) %>%\n",
    "  group_by(Title) %>%\n",
    "  summarize(colaboraciones = list({\n",
    "    unique_paises <- unique(paises)\n",
    "    if (length(unique_paises) >= 2) {\n",
    "      combn(unique_paises, 2, simplify = FALSE)\n",
    "    } else {\n",
    "      NULL\n",
    "    }\n",
    "  }), .groups = 'drop') %>%\n",
    "  filter(lengths(colaboraciones) > 0) %>%  # Filtrar las filas donde hay combinaciones\n",
    "  unnest(colaboraciones)\n",
    "\n",
    "# Convertir los pares en un dataframe adecuado para un grafo\n",
    "edges <- do.call(rbind, lapply(colaboraciones$colaboraciones, function(x) as.data.frame(t(x))))\n",
    "colnames(edges) <- c(\"País1\", \"País2\")"
   ]
  },
  {
   "cell_type": "code",
   "execution_count": 13,
   "id": "064f635b-da7e-4879-9a73-c41b1c3d8848",
   "metadata": {},
   "outputs": [
    {
     "data": {
      "text/html": [
       "<strong>pdf:</strong> 2"
      ],
      "text/latex": [
       "\\textbf{pdf:} 2"
      ],
      "text/markdown": [
       "**pdf:** 2"
      ],
      "text/plain": [
       "pdf \n",
       "  2 "
      ]
     },
     "metadata": {},
     "output_type": "display_data"
    }
   ],
   "source": [
    "# Crear el grafo\n",
    "grafo <- graph_from_data_frame(d=edges, directed=FALSE)\n",
    "\n",
    "# Crear una función para simular el efecto 3D en los nodos\n",
    "add_shadow <- function(colors, intensity = 0.8) {\n",
    "  # Hacer que los bordes sean más oscuros para simular un efecto de sombra\n",
    "  darker_colors <- adjustcolor(colors, intensity)\n",
    "  return(darker_colors)\n",
    "}\n",
    "\n",
    "# Asignar colores de los nodos\n",
    "vertex_colors <- \"lightgreen\"\n",
    "vertex_border_colors <- add_shadow(vertex_colors)\n",
    "\n",
    "layout <- layout_with_kk(grafo)\n",
    "\n",
    "png(\"vih_grafo_pubmed.png\", width = 6000, height = 6000, res = 300)  # Ajusta el tamaño y la resolución según sea necesario\n",
    "# Visualizar el grafo con efecto de sombra (simulando 3D)\n",
    "plot(grafo, \n",
    "     layout = layout,                  \n",
    "     vertex.label = V(grafo)$name, \n",
    "     vertex.size = 20,                 \n",
    "     vertex.color = vertex_colors,     \n",
    "     vertex.frame.color = vertex_border_colors, \n",
    "     edge.width = 1,\n",
    "     vertex.label.color = \"black\",     \n",
    "     vertex.label.cex = 3,           \n",
    "     vertex.label.font = 2             \n",
    ")\n",
    "dev.off()"
   ]
  },
  {
   "cell_type": "code",
   "execution_count": 14,
   "id": "2dc1aff7-e28f-461f-a73d-287595b01ccf",
   "metadata": {},
   "outputs": [
    {
     "name": "stdout",
     "output_type": "stream",
     "text": [
      "\u001b[90m# A tibble: 46 × 3\u001b[39m\n",
      "   Year  paises        Production\n",
      "   \u001b[3m\u001b[90m<chr>\u001b[39m\u001b[23m \u001b[3m\u001b[90m<chr>\u001b[39m\u001b[23m              \u001b[3m\u001b[90m<int>\u001b[39m\u001b[23m\n",
      "\u001b[90m 1\u001b[39m 2013  United States          1\n",
      "\u001b[90m 2\u001b[39m 2014  Australia              1\n",
      "\u001b[90m 3\u001b[39m 2014  Peru                   1\n",
      "\u001b[90m 4\u001b[39m 2014  United States          2\n",
      "\u001b[90m 5\u001b[39m 2015  Canada                 1\n",
      "\u001b[90m 6\u001b[39m 2015  Germany                1\n",
      "\u001b[90m 7\u001b[39m 2015  United States          2\n",
      "\u001b[90m 8\u001b[39m 2016  South Africa           1\n",
      "\u001b[90m 9\u001b[39m 2016  Spain                  1\n",
      "\u001b[90m10\u001b[39m 2016  United States          2\n",
      "\u001b[90m# ℹ 36 more rows\u001b[39m\n"
     ]
    }
   ],
   "source": [
    "# Pasamos a caracteres la lista de países\n",
    "datos_df$paises <- paste(datos_df$paises)\n",
    "\n",
    "# Suponiendo que tu dataframe se llama 'df'\n",
    "# Agrupar por 'Year' y 'paises' y contar el número de publicaciones\n",
    "df_summary <- datos_df %>%\n",
    "  group_by(Year, paises) %>%\n",
    "  summarise(Production = n(), .groups = 'drop')  # Contar el número de publicaciones\n",
    "\n",
    "# Ver los datos resumidos\n",
    "print(df_summary)"
   ]
  },
  {
   "cell_type": "code",
   "execution_count": 19,
   "id": "73b411c0-2825-46e3-b414-ee98b6840e83",
   "metadata": {},
   "outputs": [
    {
     "data": {
      "text/html": [
       "<strong>pdf:</strong> 2"
      ],
      "text/latex": [
       "\\textbf{pdf:} 2"
      ],
      "text/markdown": [
       "**pdf:** 2"
      ],
      "text/plain": [
       "pdf \n",
       "  2 "
      ]
     },
     "metadata": {},
     "output_type": "display_data"
    }
   ],
   "source": [
    "png(\"vih_burbuja_pubmed.png\", width = 2000, height = 2000, res = 300)  # Ajusta el tamaño y la resolución según sea necesario\n",
    "\n",
    "# Crear el gráfico sin leyenda de países\n",
    "df_summary %>% \n",
    "  filter(Production > 0) %>% \n",
    "  ggplot(aes(x = paises, y = Year, size = Production, color = paises)) +\n",
    "  geom_point(alpha = 0.7, show.legend = FALSE) +  # Quitar la leyenda de los países\n",
    "  scale_size(range = c(2, 10), name = \"Producción\") + \n",
    "  labs(title = \"\",\n",
    "       x = \"País\",\n",
    "       y = \"Año\") +\n",
    "  theme_minimal(base_size = 14) +  # Aumentar el tamaño base de la fuente\n",
    "  theme(axis.text.x = element_text(angle = 90, hjust = 1, size = 14),  # Tamaño de texto del eje x\n",
    "        axis.text.y = element_text(size = 14),  # Tamaño de texto del eje y\n",
    "        plot.title = element_text(size = 16)) +  # Tamaño del título\n",
    "  scale_color_viridis_d()  # Usar la paleta viridis para más colores\n",
    "dev.off()"
   ]
  },
  {
   "cell_type": "code",
   "execution_count": null,
   "id": "bf341a9e-d1ac-4843-a67e-8f5d86c92bbf",
   "metadata": {},
   "outputs": [],
   "source": []
  }
 ],
 "metadata": {
  "kernelspec": {
   "display_name": "R",
   "language": "R",
   "name": "ir"
  },
  "language_info": {
   "codemirror_mode": "r",
   "file_extension": ".r",
   "mimetype": "text/x-r-source",
   "name": "R",
   "pygments_lexer": "r",
   "version": "4.4.1"
  }
 },
 "nbformat": 4,
 "nbformat_minor": 5
}
