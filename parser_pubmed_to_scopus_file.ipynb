{
 "cells": [
  {
   "cell_type": "code",
   "execution_count": 3,
   "id": "79948c96-64b1-4cab-84bd-3a0549436eb1",
   "metadata": {},
   "outputs": [],
   "source": [
    "import pandas as pd\n",
    "from Bio import Medline\n",
    "\n",
    "# Carga el archivo de PubMed (cambia el nombre del archivo según sea necesario)\n",
    "pmid_file = \"pubmed-HIVANDDTGO-set.txt\"\n",
    "\n",
    "# Lee el archivo XML de PubMed\n",
    "with open(pmid_file, \"r\") as file:\n",
    "    records = Medline.parse(file)\n",
    "    entries = []\n",
    "\n",
    "    for record in records:\n",
    "        # Extrae la información necesaria\n",
    "        entry = {\n",
    "            \"Authors\": \", \".join(record.get(\"AU\", [])),\n",
    "            \"Title\": record.get(\"TI\", \"\"),\n",
    "            \"Year\": record.get(\"DP\", \"\").split(\"/\")[0],  # Extrae el año correctamente\n",
    "            \"Journal\": record.get(\"JT\", \"\"),\n",
    "            \"Volume\": record.get(\"VI\", \"\"),\n",
    "            \"Issue\": record.get(\"IP\", \"\"),\n",
    "            \"Pages\": record.get(\"PG\", \"\"),\n",
    "            \"DOI\": record.get(\"LID\", \"\").replace(\"doi:\", \"\"),  # Limpia el DOI\n",
    "            \"Abstract\": record.get(\"AB\", \"\"),\n",
    "            \"Keywords\": \", \".join(record.get(\"OT\", [])),  # Palabras clave si están disponibles\n",
    "            \"Affiliations\": \"; \".join(record.get(\"AD\", [])),  # Afiliaciones si están disponibles\n",
    "        }\n",
    "        entries.append(entry)\n",
    "\n",
    "# Crea un DataFrame de pandas\n",
    "df = pd.DataFrame(entries)\n",
    "\n",
    "# Exporta el DataFrame a un archivo CSV\n",
    "df.to_csv(\"pubmed_to_scopus.csv\", index=False)"
   ]
  }
 ],
 "metadata": {
  "kernelspec": {
   "display_name": "Python 3 (ipykernel)",
   "language": "python",
   "name": "python3"
  },
  "language_info": {
   "codemirror_mode": {
    "name": "ipython",
    "version": 3
   },
   "file_extension": ".py",
   "mimetype": "text/x-python",
   "name": "python",
   "nbconvert_exporter": "python",
   "pygments_lexer": "ipython3",
   "version": "3.13.0"
  }
 },
 "nbformat": 4,
 "nbformat_minor": 5
}
